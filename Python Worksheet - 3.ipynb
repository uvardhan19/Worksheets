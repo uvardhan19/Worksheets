{
 "cells": [
  {
   "cell_type": "markdown",
   "metadata": {},
   "source": [
    "#             Python Worksheet - 3"
   ]
  },
  {
   "cell_type": "markdown",
   "metadata": {},
   "source": [
    "#### 11. Write a python function print pyramid of stars. Level of pyramid should be taken as an input from the user. E.g.       Input = 5"
   ]
  },
  {
   "cell_type": "code",
   "execution_count": 1,
   "metadata": {},
   "outputs": [
    {
     "name": "stdout",
     "output_type": "stream",
     "text": [
      "        * \r\n",
      "       * * \r\n",
      "      * * * \r\n",
      "     * * * * \r\n",
      "    * * * * * \r\n"
     ]
    }
   ],
   "source": [
    "def triangle(n): \n",
    "      \n",
    "    #number of spaces \n",
    "    k = 2*n - 2\n",
    "  \n",
    "    #outer loop\n",
    "    for i in range(0, n): \n",
    "      \n",
    "        #inner loop to handle number spaces  \n",
    "        for j in range(0, k): \n",
    "            print(end=\" \") \n",
    "      \n",
    "        #decrementing k after each loop \n",
    "        k = k - 1\n",
    "      \n",
    "        #inner loop to handle number of columns \n",
    "        for j in range(0, i+1): \n",
    "          \n",
    "            # * stars \n",
    "            print(\"* \", end=\"\") \n",
    "        print(\"\\r\") \n",
    "#Input=5\n",
    "n = 5\n",
    "triangle(n) "
   ]
  },
  {
   "cell_type": "markdown",
   "metadata": {},
   "source": [
    "#### 12. Write a python function print Hourglass pattern. E.g. Input = 5"
   ]
  },
  {
   "cell_type": "code",
   "execution_count": 70,
   "metadata": {},
   "outputs": [
    {
     "name": "stdout",
     "output_type": "stream",
     "text": [
      "size:5:\n",
      "\n",
      "*****\n",
      "**** \n",
      " *** \n",
      " **  \n",
      "  *  \n",
      " **  \n",
      " *** \n",
      "**** \n",
      "*****\n",
      "\n"
     ]
    }
   ],
   "source": [
    "def render(size):\n",
    "    char = \"*\"\n",
    "    #build a center-justified format mask\n",
    "    mask = '{:^%ds}' % (size)\n",
    "\n",
    "    print(\"size:%s:\\n\" % (size))\n",
    "\n",
    "    #count down your shrinking\n",
    "    for i in range(size, 0,-1):\n",
    "        print(mask.format(char * i))\n",
    "\n",
    "    #trickier:  you've already printed the narrowest\n",
    "    #and your next line is different depending on odd/even input \n",
    "    if size %2:\n",
    "        start = 2\n",
    "    else:\n",
    "        start = 5\n",
    "\n",
    "    for i in range(start, size + 1, 1):\n",
    "        print(mask.format(char * i))\n",
    "    print()\n",
    "render(5)\n"
   ]
  },
  {
   "cell_type": "markdown",
   "metadata": {},
   "source": [
    "#### 13. Write a python function to print Pascal’s Triangle. The number of levels in the triangle must be taken as input by user. E.g.  Input = 5"
   ]
  },
  {
   "cell_type": "code",
   "execution_count": 2,
   "metadata": {},
   "outputs": [
    {
     "name": "stdout",
     "output_type": "stream",
     "text": [
      "1 \n",
      "1 1 \n",
      "1 2 1 \n",
      "1 3 3 1 \n",
      "1 4 6 4 1 \n"
     ]
    }
   ],
   "source": [
    "def triangle(size):\n",
    "    for i in range(0, size):\n",
    "        for j in range(0, i + 1):\n",
    "            print(decide_number(i, j), end=\" \")\n",
    "        print()\n",
    "\n",
    "def decide_number(n, k):\n",
    "    num = 1\n",
    "    if k > n - k:\n",
    "        k = n - k\n",
    "    for i in range(0, k):\n",
    "        num = num * (n - i)\n",
    "        num = num // (i + 1)\n",
    "    return num\n",
    "\n",
    "rows = 5\n",
    "triangle(rows)"
   ]
  },
  {
   "cell_type": "markdown",
   "metadata": {},
   "source": [
    "#### 14. Write a python function to print Diamond Shaped Pattern shown below. Function must take integer input which represents the number of stars in the middle most line. E.g.:  Input = 5"
   ]
  },
  {
   "cell_type": "code",
   "execution_count": 4,
   "metadata": {},
   "outputs": [
    {
     "name": "stdout",
     "output_type": "stream",
     "text": [
      "      * \n",
      "     * * \n",
      "    * * * \n",
      "   * * * * \n",
      "  * * * * * \n",
      "   * * * * \n",
      "    * * * \n",
      "     * * \n",
      "      * \n"
     ]
    }
   ],
   "source": [
    "rows = 4\n",
    "k = 2 * rows - 2\n",
    "for i in range(0, rows):\n",
    "    for j in range(0, k):\n",
    "        print(end=\" \")\n",
    "    k = k - 1\n",
    "    for j in range(0, i + 1):\n",
    "        print(\"* \", end=\"\")\n",
    "    print(\"\")\n",
    "    \n",
    "k = rows - 2\n",
    "\n",
    "for i in range(rows, -1, -1):\n",
    "    for j in range(k, 0, -1):\n",
    "        print(end=\" \")\n",
    "    k = k + 1\n",
    "    for j in range(0, i + 1):\n",
    "        print(\"* \", end=\"\")\n",
    "    print(\"\")"
   ]
  },
  {
   "cell_type": "markdown",
   "metadata": {},
   "source": [
    "#### 15.Write a python function to print Diamond Shaped Character Pattern shown below. Function must take integer input within range 1 to 26, which represents the rank of alphabet. E.g.:  Input = 5"
   ]
  },
  {
   "cell_type": "code",
   "execution_count": 14,
   "metadata": {},
   "outputs": [
    {
     "name": "stdout",
     "output_type": "stream",
     "text": [
      "      A \r\n",
      "     A B \r\n",
      "    A B C \r\n",
      "   A B C D \r\n",
      "  A B C D E \r\n",
      "   F G H I \r\n",
      "    J K L \r\n",
      "     M N \r\n",
      "      O \r\n"
     ]
    }
   ],
   "source": [
    "def pattern(n):\n",
    "    k = 2 * n - 2\n",
    "    for i in range(0, n):\n",
    "        for j in range(0, k):\n",
    "            print(end=\" \")\n",
    "        k = k - 1\n",
    "        x = 65\n",
    "        for j in range(0, i + 1):\n",
    "            ch = chr(x)\n",
    "            print(ch, end=\" \")\n",
    "            x += 1\n",
    "        print(\"\\r\")\n",
    "    k = n - 2\n",
    "    x = 65\n",
    "    for i in range(n, -1, -1):\n",
    "        for j in range(k, 0, -1):\n",
    "            print(end=\" \")\n",
    "        k = k + 1\n",
    "        for j in range(0, i + 1):\n",
    "            ch = chr(x)\n",
    "            print(ch, end=\" \")\n",
    "            x += 1\n",
    "        print(\"\\r\")\n",
    " \n",
    " \n",
    "pattern(4)"
   ]
  },
  {
   "cell_type": "code",
   "execution_count": null,
   "metadata": {},
   "outputs": [],
   "source": []
  }
 ],
 "metadata": {
  "kernelspec": {
   "display_name": "Python 3",
   "language": "python",
   "name": "python3"
  },
  "language_info": {
   "codemirror_mode": {
    "name": "ipython",
    "version": 3
   },
   "file_extension": ".py",
   "mimetype": "text/x-python",
   "name": "python",
   "nbconvert_exporter": "python",
   "pygments_lexer": "ipython3",
   "version": "3.8.3"
  }
 },
 "nbformat": 4,
 "nbformat_minor": 4
}
