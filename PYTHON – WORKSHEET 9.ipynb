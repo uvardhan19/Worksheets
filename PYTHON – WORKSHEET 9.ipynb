{
 "cells": [
  {
   "cell_type": "markdown",
   "metadata": {},
   "source": [
    "# PYTHON – WORKSHEET 9"
   ]
  },
  {
   "cell_type": "code",
   "execution_count": 8,
   "metadata": {},
   "outputs": [
    {
     "data": {
      "text/plain": [
       "<NA>"
      ]
     },
     "execution_count": 8,
     "metadata": {},
     "output_type": "execute_result"
    }
   ],
   "source": [
    "import pandas as pd\n",
    "import numpy as np\n",
    "pd.NA == pd.NA"
   ]
  },
  {
   "cell_type": "code",
   "execution_count": 9,
   "metadata": {},
   "outputs": [
    {
     "name": "stdout",
     "output_type": "stream",
     "text": [
      "1\n"
     ]
    }
   ],
   "source": [
    "import pandas as pd\n",
    "import numpy as np\n",
    "s = pd.Series(np.random.randn(4))\n",
    "print(s.ndim)\n"
   ]
  },
  {
   "cell_type": "markdown",
   "metadata": {},
   "source": [
    "#### 11. Write a Pandas program to create and display a DataFrame from the following dictionary data and labels:"
   ]
  },
  {
   "cell_type": "code",
   "execution_count": 16,
   "metadata": {},
   "outputs": [
    {
     "name": "stdout",
     "output_type": "stream",
     "text": [
      "         name  score  attempts qualify\n",
      "1   Anastasia   12.5         1     yes\n",
      "2        Dima    9.0         3      no\n",
      "3   Katherine   16.5         2     yes\n",
      "4       James    NaN         3      no\n",
      "5       Emily    9.0         2      no\n",
      "6     Michael   20.0         3     yes\n",
      "7     Matthew   14.5         1     yes\n",
      "8       Laura    NaN         1      no\n",
      "9       Kevin    8.0         2      no\n",
      "10      Jonas   19.0         1     yes\n"
     ]
    }
   ],
   "source": [
    "exam_data = {'name': ['Anastasia', 'Dima', 'Katherine', 'James', 'Emily', 'Michael', 'Matthew', 'Laura', 'Kevin','Jonas'],\n",
    "'score': [12.5, 9, 16.5, np.nan, 9, 20, 14.5, np.nan, 8, 19], \n",
    "             'attempts': [1, 3, 2, 3, 2, 3, 1, 1, 2, 1],\n",
    "'qualify': ['yes', 'no', 'yes', 'no', 'no', 'yes', 'yes', 'no', 'no', 'yes']}\n",
    "labels = [1,2,3,4,5,6,7,8,9,10]\n",
    "df = pd.DataFrame(exam_data , index=labels)\n",
    "print(df)"
   ]
  },
  {
   "cell_type": "markdown",
   "metadata": {},
   "source": [
    "#### 12. Write a Pandas program to get the first 5 rows of the DataFrame created in Q11"
   ]
  },
  {
   "cell_type": "code",
   "execution_count": 17,
   "metadata": {},
   "outputs": [
    {
     "name": "stdout",
     "output_type": "stream",
     "text": [
      "First Five rows of the data frame:\n",
      "        name  score  attempts qualify\n",
      "1  Anastasia   12.5         1     yes\n",
      "2       Dima    9.0         3      no\n",
      "3  Katherine   16.5         2     yes\n",
      "4      James    NaN         3      no\n",
      "5      Emily    9.0         2      no\n"
     ]
    }
   ],
   "source": [
    "print(\"First Five rows of the data frame:\")\n",
    "print(df.iloc[:5])"
   ]
  },
  {
   "cell_type": "markdown",
   "metadata": {},
   "source": [
    "#### 13.  Write a Pandas program to select the 'name' and 'score' columns of the DataFrame created in Q11"
   ]
  },
  {
   "cell_type": "code",
   "execution_count": 18,
   "metadata": {},
   "outputs": [
    {
     "name": "stdout",
     "output_type": "stream",
     "text": [
      "Select Name and Score columns:\n",
      "         name  score\n",
      "1   Anastasia   12.5\n",
      "2        Dima    9.0\n",
      "3   Katherine   16.5\n",
      "4       James    NaN\n",
      "5       Emily    9.0\n",
      "6     Michael   20.0\n",
      "7     Matthew   14.5\n",
      "8       Laura    NaN\n",
      "9       Kevin    8.0\n",
      "10      Jonas   19.0\n"
     ]
    }
   ],
   "source": [
    "print(\"Select Name and Score columns:\")\n",
    "print(df[['name', 'score']])"
   ]
  },
  {
   "cell_type": "markdown",
   "metadata": {},
   "source": [
    "#### 14.  Write a Pandas program to select 'name' and 'score' columns in row indexes 3, 5, 6, 8 from the DataFrame created in Q11."
   ]
  },
  {
   "cell_type": "code",
   "execution_count": 19,
   "metadata": {},
   "outputs": [
    {
     "name": "stdout",
     "output_type": "stream",
     "text": [
      "Select Name and Score columns and 3,5,6,8 rows:\n",
      "   score qualify\n",
      "4    NaN      no\n",
      "6   20.0     yes\n",
      "7   14.5     yes\n",
      "9    8.0      no\n"
     ]
    }
   ],
   "source": [
    "print(\"Select Name and Score columns and 3,5,6,8 rows:\")\n",
    "print(df.iloc[[3,5,6,8], [1, 3]])"
   ]
  },
  {
   "cell_type": "markdown",
   "metadata": {},
   "source": [
    "#### 15.  Write a Pandas program to select the rows where the score is between 15 and 20 (inclusive) from the DataFrame created in Q11.\n",
    " "
   ]
  },
  {
   "cell_type": "code",
   "execution_count": 20,
   "metadata": {},
   "outputs": [
    {
     "name": "stdout",
     "output_type": "stream",
     "text": [
      "Rows where score between 15 and 20:\n",
      "         name  score  attempts qualify\n",
      "3   Katherine   16.5         2     yes\n",
      "6     Michael   20.0         3     yes\n",
      "10      Jonas   19.0         1     yes\n"
     ]
    }
   ],
   "source": [
    "print(\"Rows where score between 15 and 20:\")\n",
    "print(df[df['score'].between(15, 20)])"
   ]
  },
  {
   "cell_type": "code",
   "execution_count": null,
   "metadata": {},
   "outputs": [],
   "source": []
  }
 ],
 "metadata": {
  "kernelspec": {
   "display_name": "Python 3",
   "language": "python",
   "name": "python3"
  },
  "language_info": {
   "codemirror_mode": {
    "name": "ipython",
    "version": 3
   },
   "file_extension": ".py",
   "mimetype": "text/x-python",
   "name": "python",
   "nbconvert_exporter": "python",
   "pygments_lexer": "ipython3",
   "version": "3.8.3"
  }
 },
 "nbformat": 4,
 "nbformat_minor": 4
}
