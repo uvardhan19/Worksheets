{
 "cells": [
  {
   "cell_type": "markdown",
   "metadata": {},
   "source": [
    "## Question 14: \n",
    "\n",
    "Write a python program to solve a quadratic equation of the form 𝑎𝑥2 + 𝑏𝑥 + 𝑐 = 0. Where a, b and c are to be taken by user input. Handle the erroneous input, such as ‘a’ should not be equal to 0.\n"
   ]
  },
  {
   "cell_type": "markdown",
   "metadata": {},
   "source": [
    "ax2 + bx + c \n",
    "\n",
    "where a,b,c are real numbers also 'a' is not = 0"
   ]
  },
  {
   "cell_type": "markdown",
   "metadata": {},
   "source": [
    "### QUADRATIC EQUATION"
   ]
  },
  {
   "cell_type": "markdown",
   "metadata": {},
   "source": [
    "ax2 + bx + c"
   ]
  },
  {
   "cell_type": "code",
   "execution_count": 1,
   "metadata": {},
   "outputs": [],
   "source": [
    "#Python program to find roots of quadratic equation IMPORTING MATH :\n",
    "\n",
    "import math"
   ]
  },
  {
   "cell_type": "code",
   "execution_count": 9,
   "metadata": {},
   "outputs": [
    {
     "name": "stdout",
     "output_type": "stream",
     "text": [
      " different roots \n",
      "1.7720018726587652\n",
      "-6.772001872658765\n"
     ]
    }
   ],
   "source": [
    "# Function in order to find the roots:\n",
    "\n",
    "def equationroots( a, b, c):  \n",
    "  \n",
    "    # calculation using formula \n",
    "    dis = b * b - 4 * a * c  \n",
    "    sqrt_val = math.sqrt(abs(dis))  \n",
    "      \n",
    "    # checking condition for discriminant \n",
    "    if dis > 0:  \n",
    "        print(\" different roots \")  \n",
    "        print((-b + sqrt_val)/(2 * a))  \n",
    "        print((-b - sqrt_val)/(2 * a))  \n",
    "      \n",
    "    elif dis == 0:  \n",
    "        print(\" same roots\")  \n",
    "        print(-b / (2 * a))  \n",
    "      \n",
    "    # when discriminant is less than 0 \n",
    "    else: \n",
    "        print(\"Complex Roots\")  \n",
    "        print(- b / (2 * a), \" + i\", sqrt_val)  \n",
    "        print(- b / (2 * a), \" - i\", sqrt_val)  \n",
    "  \n",
    "\n",
    "a = 2\n",
    "b = 10\n",
    "c = -24\n",
    "  \n",
    "# If a is 0, then incorrect equation \n",
    "if a == 0:  \n",
    "        print(\"Input correct quadratic equation\")  \n",
    "  \n",
    "else: \n",
    "    equationroots(a, b, c)"
   ]
  },
  {
   "cell_type": "markdown",
   "metadata": {},
   "source": [
    "## Question 15\n",
    "\n",
    "Write a python program to find the sum of first ‘n’ natural numbers without using any loop. Ask user to input the value of ‘n’."
   ]
  },
  {
   "cell_type": "code",
   "execution_count": 12,
   "metadata": {},
   "outputs": [
    {
     "name": "stdout",
     "output_type": "stream",
     "text": [
      "Sum of the first  50 natural numbers is:  1275.0\n",
      "Average of the first  50 natural numbers is:  25.5\n"
     ]
    }
   ],
   "source": [
    "#calculate the sum and average directly using a mathematical formula no loops:\n",
    "\n",
    "# First n natural numbers:\n",
    "n = 50\n",
    "\n",
    "sum = n * (n+1) / 2\n",
    "\n",
    "average  = ( n * (n+1) / 2) / n\n",
    "\n",
    "print(\"Sum of the first \", n, \"natural numbers is: \", sum )\n",
    "\n",
    "print(\"Average of the first \", n, \"natural numbers is: \", average )"
   ]
  },
  {
   "cell_type": "code",
   "execution_count": 17,
   "metadata": {},
   "outputs": [],
   "source": [
    "import re\n",
    "a_string = \"I+LOVE+PYTHON\"\n",
    "\n",
    "new_string = a_string.replace(\"+\", \" \")"
   ]
  },
  {
   "cell_type": "code",
   "execution_count": 18,
   "metadata": {},
   "outputs": [
    {
     "data": {
      "text/plain": [
       "'I LOVE PYTHON'"
      ]
     },
     "execution_count": 18,
     "metadata": {},
     "output_type": "execute_result"
    }
   ],
   "source": [
    "new_string"
   ]
  },
  {
   "cell_type": "code",
   "execution_count": 21,
   "metadata": {},
   "outputs": [
    {
     "name": "stdout",
     "output_type": "stream",
     "text": [
      "The ASCII value of a is 97\n"
     ]
    }
   ],
   "source": [
    "# unicode code point of alphabet\n",
    "print(\"The ASCII value of a is\",ord('a'))"
   ]
  },
  {
   "cell_type": "code",
   "execution_count": null,
   "metadata": {},
   "outputs": [],
   "source": []
  }
 ],
 "metadata": {
  "kernelspec": {
   "display_name": "Python 3",
   "language": "python",
   "name": "python3"
  },
  "language_info": {
   "codemirror_mode": {
    "name": "ipython",
    "version": 3
   },
   "file_extension": ".py",
   "mimetype": "text/x-python",
   "name": "python",
   "nbconvert_exporter": "python",
   "pygments_lexer": "ipython3",
   "version": "3.7.6"
  }
 },
 "nbformat": 4,
 "nbformat_minor": 4
}
