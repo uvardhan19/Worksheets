{
 "cells": [
  {
   "cell_type": "code",
   "execution_count": 1,
   "metadata": {},
   "outputs": [],
   "source": [
    "import numpy as np\n",
    "import pandas as pd\n",
    "import matplotlib.pyplot as plt\n",
    "import seaborn as sns"
   ]
  },
  {
   "cell_type": "markdown",
   "metadata": {},
   "source": [
    "#### 14.  Write a python program to represent a user entered number in expanded form.    For eg: user_input = 12345   Output = 1*10000 + 2*1000 + 3*100 + 4*10 + 5*1\n"
   ]
  },
  {
   "cell_type": "code",
   "execution_count": 14,
   "metadata": {},
   "outputs": [
    {
     "data": {
      "text/plain": [
       "'(1*10000)+(2*1000)+(3*100)+(4*10)+(5*1)'"
      ]
     },
     "execution_count": 14,
     "metadata": {},
     "output_type": "execute_result"
    }
   ],
   "source": [
    "n = 12345\n",
    ">>> '+'.join([ '({1}*10^{0})'.format(*t) for t in enumerate(str(n)[::-1]) ][::-1])\n",
    "'(1*10000)+(2*1000)+(3*100)+(4*10)+(5*1)'"
   ]
  },
  {
   "cell_type": "markdown",
   "metadata": {},
   "source": [
    "#### 15. Write a python program to determine whether the number entered by the user is an Armstrong number or not?\n"
   ]
  },
  {
   "cell_type": "code",
   "execution_count": 16,
   "metadata": {},
   "outputs": [
    {
     "name": "stdout",
     "output_type": "stream",
     "text": [
      "Enter a number: 993\n",
      "993 is not an Armstrong number\n"
     ]
    }
   ],
   "source": [
    " num = int(input(\"Enter a number: \"))  \n",
    "sum = 0  \n",
    "temp = num  \n",
    "  \n",
    "while temp > 0:  \n",
    "   digit = temp % 10  \n",
    "   sum += digit ** 3  \n",
    "   temp //= 10  \n",
    "  \n",
    "if num == sum:  \n",
    "   print(num,\"is an Armstrong number\")  \n",
    "else:  \n",
    "   print(num,\"is not an Armstrong number\")  "
   ]
  },
  {
   "cell_type": "code",
   "execution_count": null,
   "metadata": {},
   "outputs": [],
   "source": []
  },
  {
   "cell_type": "code",
   "execution_count": null,
   "metadata": {},
   "outputs": [],
   "source": []
  }
 ],
 "metadata": {
  "kernelspec": {
   "display_name": "Python 3",
   "language": "python",
   "name": "python3"
  },
  "language_info": {
   "codemirror_mode": {
    "name": "ipython",
    "version": 3
   },
   "file_extension": ".py",
   "mimetype": "text/x-python",
   "name": "python",
   "nbconvert_exporter": "python",
   "pygments_lexer": "ipython3",
   "version": "3.8.3"
  }
 },
 "nbformat": 4,
 "nbformat_minor": 4
}
